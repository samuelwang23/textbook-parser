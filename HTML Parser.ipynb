{
 "cells": [
  {
   "cell_type": "code",
   "execution_count": null,
   "metadata": {},
   "outputs": [],
   "source": [
    "import selenium\n",
    "from selenium import webdriver\n",
    "import os\n",
    "from pathlib import Path"
   ]
  },
  {
   "cell_type": "code",
   "execution_count": null,
   "metadata": {
    "scrolled": true
   },
   "outputs": [],
   "source": [
    "driver = webdriver.Chrome()\n",
    "for root, dirs, files in os.walk(\".\\Texts\", topdown=False):\n",
    "    for name in files:\n",
    "        path = Path(os.path.join(root, name))\n",
    "        f = open(path)\n",
    "        print(path)\n",
    "        html = open(\"test.html\", 'w')\n",
    "\n",
    "        text = f.read()\n",
    "        html.write(text)\n",
    "        html.close()\n",
    "        f.close()\n",
    "        \n",
    "        driver.get(\"file:///C:/Dev/Text%20Summarizer/Textbook%20Scraper/test.html\")\n",
    "\n",
    "        pageSource = driver.find_element_by_tag_name(\"body\").text\n",
    "        html_path = Path(os.path.join(pathlib.Path().absolute(), \"HTML\", path.parent.name, name))\n",
    "        print(html_path)\n",
    "        html = open(html_path, 'w')\n",
    "        html.write(pageSource)\n",
    "        html.close()\n",
    "        \n",
    "        "
   ]
  }
 ],
 "metadata": {
  "kernelspec": {
   "display_name": "Python 3",
   "language": "python",
   "name": "python3"
  },
  "language_info": {
   "codemirror_mode": {
    "name": "ipython",
    "version": 3
   },
   "file_extension": ".py",
   "mimetype": "text/x-python",
   "name": "python",
   "nbconvert_exporter": "python",
   "pygments_lexer": "ipython3",
   "version": "3.7.6"
  }
 },
 "nbformat": 4,
 "nbformat_minor": 4
}
